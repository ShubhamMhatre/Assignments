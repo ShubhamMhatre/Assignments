{
 "cells": [
  {
   "cell_type": "markdown",
   "metadata": {
    "id": "tYsGxK6c5Gw3"
   },
   "source": [
    "<table align=\"center\" width=100%>\n",
    "    <tr>\n",
    "        <td width=\"15%\">\n",
    "            <img src=\"GL-2.png\">\n",
    "        </td>\n",
    "        <td>\n",
    "            <div align=\"center\">\n",
    "                <font color=\"#21618C\" size=24px>\n",
    "                    <b>Insurance Claim Prediction\n",
    "                    </b>\n",
    "                </font>\n",
    "            </div>\n",
    "        </td>\n",
    "    </tr>\n",
    "</table>"
   ]
  },
  {
   "cell_type": "markdown",
   "metadata": {
    "id": "VBBmHs6c5Gw7"
   },
   "source": [
    "## Problem Statement\n",
    "A key challenge for the insurance industry is to charge each customer an appropriate premium for the risk they represent. The ability to predict a correct claim amount has a significant impact on insurer's management decisions and financial statements. Predicting the cost of claims in an insurance company is a real-life problem that needs to be solved in a more accurate and automated way. Several factors determine the cost of claims based on health factors like BMI, age, smoker, health conditions and others. Insurance companies apply numerous techniques for analyzing and predicting health insurance costs"
   ]
  },
  {
   "cell_type": "markdown",
   "metadata": {
    "id": "_x20tzsN5Gw9"
   },
   "source": [
    "## Data Definition\n",
    "**claim: The amount claimed by the policyholder (Numeric) -- Target variable.**\n",
    "\n",
    "**age** : Age of the policyholder (Numeric)\n",
    "\n",
    "**sex:** Gender of policyholder (Categoric)\n",
    "\n",
    "**weight:** Weight of the policyholder (Numeric)\n",
    "\n",
    "**bmi**: Body mass index, providing an understanding of body, weights that are relatively high or low relative to height, objective index of body weight (kg / m ^ 2) using the ratio of height to weight (Numeric)\n",
    "\n",
    "**no_of_dependents:** Number of dependent persons on the policyholder (Numeric)\n",
    "\n",
    "**smoker:** Indicates policyholder is a smoker or a non-smoker (non-smoker=0;smoker=1) (Categoric)\n",
    "\n",
    "\n",
    "**bloodpressure:** Bloodpressure reading of policyholder (Numeric)\n",
    "\n",
    "**diabetes:** Indicates policyholder suffers from diabetes or not (non-diabetic=0; diabetic=1) (Categoric)\n",
    "\n",
    "**regular_ex:** A policyholder regularly excercises or not (no-excercise=0; excercise=1) (Categoric)\n",
    "\n",
    "**job_title:** Job profile of the policyholder (Categoric)\n",
    "\n",
    "**city:** The city in which the policyholder resides (Categoric)\n",
    "\n",
    "**hereditary_diseases:**  A policyholder suffering from a hereditary diseases or not (Categoric)"
   ]
  },
  {
   "cell_type": "code",
   "execution_count": null,
   "metadata": {},
   "outputs": [],
   "source": []
  },
  {
   "cell_type": "markdown",
   "metadata": {
    "id": "f2nLW34j5GxE"
   },
   "source": [
    "\n",
    "## Import Libraries"
   ]
  },
  {
   "cell_type": "code",
   "execution_count": 10,
   "metadata": {},
   "outputs": [],
   "source": [
    "import pandas as pd\n",
    "import numpy as np\n",
    "import matplotlib.pyplot as plt\n",
    "import seaborn as sns\n"
   ]
  },
  {
   "cell_type": "code",
   "execution_count": 11,
   "metadata": {},
   "outputs": [],
   "source": [
    "import warnings\n",
    "%matplotlib inline\n",
    "warnings.filterwarnings('ignore')"
   ]
  },
  {
   "cell_type": "markdown",
   "metadata": {
    "id": "F1l-yo5X5GxR"
   },
   "source": [
    "\n",
    "#### 1. Read the dataset. Display the top 5 rows of the dataframe. (1m)\n"
   ]
  },
  {
   "cell_type": "code",
   "execution_count": 12,
   "metadata": {},
   "outputs": [
    {
     "data": {
      "text/html": [
       "<div>\n",
       "<style scoped>\n",
       "    .dataframe tbody tr th:only-of-type {\n",
       "        vertical-align: middle;\n",
       "    }\n",
       "\n",
       "    .dataframe tbody tr th {\n",
       "        vertical-align: top;\n",
       "    }\n",
       "\n",
       "    .dataframe thead th {\n",
       "        text-align: right;\n",
       "    }\n",
       "</style>\n",
       "<table border=\"1\" class=\"dataframe\">\n",
       "  <thead>\n",
       "    <tr style=\"text-align: right;\">\n",
       "      <th></th>\n",
       "      <th>age</th>\n",
       "      <th>sex</th>\n",
       "      <th>weight</th>\n",
       "      <th>bmi</th>\n",
       "      <th>hereditary_diseases</th>\n",
       "      <th>no_of_dependents</th>\n",
       "      <th>smoker</th>\n",
       "      <th>city</th>\n",
       "      <th>bloodpressure</th>\n",
       "      <th>diabetes</th>\n",
       "      <th>regular_ex</th>\n",
       "      <th>job_title</th>\n",
       "      <th>claim</th>\n",
       "    </tr>\n",
       "  </thead>\n",
       "  <tbody>\n",
       "    <tr>\n",
       "      <th>0</th>\n",
       "      <td>60.0</td>\n",
       "      <td>male</td>\n",
       "      <td>64</td>\n",
       "      <td>24.3</td>\n",
       "      <td>NoDisease</td>\n",
       "      <td>1</td>\n",
       "      <td>0</td>\n",
       "      <td>NewYork</td>\n",
       "      <td>72</td>\n",
       "      <td>0</td>\n",
       "      <td>0</td>\n",
       "      <td>Actor</td>\n",
       "      <td>13112.6</td>\n",
       "    </tr>\n",
       "    <tr>\n",
       "      <th>1</th>\n",
       "      <td>49.0</td>\n",
       "      <td>female</td>\n",
       "      <td>75</td>\n",
       "      <td>22.6</td>\n",
       "      <td>NoDisease</td>\n",
       "      <td>1</td>\n",
       "      <td>0</td>\n",
       "      <td>Boston</td>\n",
       "      <td>78</td>\n",
       "      <td>1</td>\n",
       "      <td>1</td>\n",
       "      <td>Engineer</td>\n",
       "      <td>9567.0</td>\n",
       "    </tr>\n",
       "    <tr>\n",
       "      <th>2</th>\n",
       "      <td>32.0</td>\n",
       "      <td>female</td>\n",
       "      <td>64</td>\n",
       "      <td>17.8</td>\n",
       "      <td>Epilepsy</td>\n",
       "      <td>2</td>\n",
       "      <td>1</td>\n",
       "      <td>Phildelphia</td>\n",
       "      <td>88</td>\n",
       "      <td>1</td>\n",
       "      <td>1</td>\n",
       "      <td>Academician</td>\n",
       "      <td>32734.2</td>\n",
       "    </tr>\n",
       "    <tr>\n",
       "      <th>3</th>\n",
       "      <td>61.0</td>\n",
       "      <td>female</td>\n",
       "      <td>53</td>\n",
       "      <td>36.4</td>\n",
       "      <td>NoDisease</td>\n",
       "      <td>1</td>\n",
       "      <td>1</td>\n",
       "      <td>Pittsburg</td>\n",
       "      <td>72</td>\n",
       "      <td>1</td>\n",
       "      <td>0</td>\n",
       "      <td>Chef</td>\n",
       "      <td>48517.6</td>\n",
       "    </tr>\n",
       "    <tr>\n",
       "      <th>4</th>\n",
       "      <td>19.0</td>\n",
       "      <td>female</td>\n",
       "      <td>50</td>\n",
       "      <td>20.6</td>\n",
       "      <td>NoDisease</td>\n",
       "      <td>0</td>\n",
       "      <td>0</td>\n",
       "      <td>Buffalo</td>\n",
       "      <td>82</td>\n",
       "      <td>1</td>\n",
       "      <td>0</td>\n",
       "      <td>HomeMakers</td>\n",
       "      <td>1731.7</td>\n",
       "    </tr>\n",
       "  </tbody>\n",
       "</table>\n",
       "</div>"
      ],
      "text/plain": [
       "    age     sex  weight   bmi hereditary_diseases  no_of_dependents  smoker  \\\n",
       "0  60.0    male      64  24.3           NoDisease                 1       0   \n",
       "1  49.0  female      75  22.6           NoDisease                 1       0   \n",
       "2  32.0  female      64  17.8            Epilepsy                 2       1   \n",
       "3  61.0  female      53  36.4           NoDisease                 1       1   \n",
       "4  19.0  female      50  20.6           NoDisease                 0       0   \n",
       "\n",
       "          city  bloodpressure  diabetes  regular_ex    job_title    claim  \n",
       "0      NewYork             72         0           0        Actor  13112.6  \n",
       "1       Boston             78         1           1     Engineer   9567.0  \n",
       "2  Phildelphia             88         1           1  Academician  32734.2  \n",
       "3    Pittsburg             72         1           0         Chef  48517.6  \n",
       "4      Buffalo             82         1           0   HomeMakers   1731.7  "
      ]
     },
     "execution_count": 12,
     "metadata": {},
     "output_type": "execute_result"
    }
   ],
   "source": [
    "df=pd.read_csv('healthinsurance.csv')\n",
    "df.head(5)"
   ]
  },
  {
   "cell_type": "markdown",
   "metadata": {
    "id": "u67Rpu6K5GxV"
   },
   "source": [
    "\n",
    "## 2. Data Analysis and Preparation. Understand the Dataset.\n"
   ]
  },
  {
   "cell_type": "markdown",
   "metadata": {
    "id": "XA1jcJ0j5GxX"
   },
   "source": [
    "<a id='Data_Shape'></a>\n",
    "#### 2.1 Data Dimensions. Print number of rows and columns. (1m)"
   ]
  },
  {
   "cell_type": "code",
   "execution_count": 13,
   "metadata": {},
   "outputs": [
    {
     "data": {
      "text/plain": [
       "(15000, 13)"
      ]
     },
     "execution_count": 13,
     "metadata": {},
     "output_type": "execute_result"
    }
   ],
   "source": [
    "df.shape"
   ]
  },
  {
   "cell_type": "markdown",
   "metadata": {
    "id": "TYRILX945Gxa"
   },
   "source": [
    "#### 2.1 Check Data Types of all the columns. (1m)\n"
   ]
  },
  {
   "cell_type": "code",
   "execution_count": 14,
   "metadata": {},
   "outputs": [
    {
     "data": {
      "text/plain": [
       "age                    float64\n",
       "sex                     object\n",
       "weight                   int64\n",
       "bmi                    float64\n",
       "hereditary_diseases     object\n",
       "no_of_dependents         int64\n",
       "smoker                   int64\n",
       "city                    object\n",
       "bloodpressure            int64\n",
       "diabetes                 int64\n",
       "regular_ex               int64\n",
       "job_title               object\n",
       "claim                  float64\n",
       "dtype: object"
      ]
     },
     "execution_count": 14,
     "metadata": {},
     "output_type": "execute_result"
    }
   ],
   "source": [
    "df. dtypes"
   ]
  },
  {
   "cell_type": "markdown",
   "metadata": {},
   "source": [
    "#### 2.2 Change the datatype to object for following columns : smoker, diabetes, regular_ex   (2m)"
   ]
  },
  {
   "cell_type": "code",
   "execution_count": 15,
   "metadata": {},
   "outputs": [],
   "source": [
    "df[[\"smoker\", \"diabetes\", \"regular_ex\"]] = df[[\"smoker\", \"diabetes\", \"regular_ex\"]].astype(str)\n",
    "dataType=df.dtypes"
   ]
  },
  {
   "cell_type": "markdown",
   "metadata": {
    "id": "01VuFc9B5Gxf"
   },
   "source": [
    "#### 2.3. Recheck the data types after the conversion.  (1m)"
   ]
  },
  {
   "cell_type": "code",
   "execution_count": 16,
   "metadata": {},
   "outputs": [
    {
     "data": {
      "text/plain": [
       "age                    float64\n",
       "sex                     object\n",
       "weight                   int64\n",
       "bmi                    float64\n",
       "hereditary_diseases     object\n",
       "no_of_dependents         int64\n",
       "smoker                  object\n",
       "city                    object\n",
       "bloodpressure            int64\n",
       "diabetes                object\n",
       "regular_ex              object\n",
       "job_title               object\n",
       "claim                  float64\n",
       "dtype: object"
      ]
     },
     "execution_count": 16,
     "metadata": {},
     "output_type": "execute_result"
    }
   ],
   "source": [
    "dataType"
   ]
  },
  {
   "cell_type": "markdown",
   "metadata": {
    "id": "MzwJdyTH5Gxi"
   },
   "source": [
    "#### 2.4 Obtain 5 point Summary Statistics for the numerical variables. (1m)"
   ]
  },
  {
   "cell_type": "code",
   "execution_count": 17,
   "metadata": {},
   "outputs": [
    {
     "data": {
      "text/html": [
       "<div>\n",
       "<style scoped>\n",
       "    .dataframe tbody tr th:only-of-type {\n",
       "        vertical-align: middle;\n",
       "    }\n",
       "\n",
       "    .dataframe tbody tr th {\n",
       "        vertical-align: top;\n",
       "    }\n",
       "\n",
       "    .dataframe thead th {\n",
       "        text-align: right;\n",
       "    }\n",
       "</style>\n",
       "<table border=\"1\" class=\"dataframe\">\n",
       "  <thead>\n",
       "    <tr style=\"text-align: right;\">\n",
       "      <th></th>\n",
       "      <th>age</th>\n",
       "      <th>weight</th>\n",
       "      <th>bmi</th>\n",
       "      <th>no_of_dependents</th>\n",
       "      <th>bloodpressure</th>\n",
       "      <th>claim</th>\n",
       "    </tr>\n",
       "  </thead>\n",
       "  <tbody>\n",
       "    <tr>\n",
       "      <th>count</th>\n",
       "      <td>14604.000000</td>\n",
       "      <td>15000.000000</td>\n",
       "      <td>14044.000000</td>\n",
       "      <td>15000.000000</td>\n",
       "      <td>15000.000000</td>\n",
       "      <td>15000.000000</td>\n",
       "    </tr>\n",
       "    <tr>\n",
       "      <th>mean</th>\n",
       "      <td>39.547521</td>\n",
       "      <td>64.909600</td>\n",
       "      <td>30.266413</td>\n",
       "      <td>1.129733</td>\n",
       "      <td>68.650133</td>\n",
       "      <td>13401.437620</td>\n",
       "    </tr>\n",
       "    <tr>\n",
       "      <th>std</th>\n",
       "      <td>14.015966</td>\n",
       "      <td>13.701935</td>\n",
       "      <td>6.122950</td>\n",
       "      <td>1.228469</td>\n",
       "      <td>19.418515</td>\n",
       "      <td>12148.239619</td>\n",
       "    </tr>\n",
       "    <tr>\n",
       "      <th>min</th>\n",
       "      <td>18.000000</td>\n",
       "      <td>34.000000</td>\n",
       "      <td>16.000000</td>\n",
       "      <td>0.000000</td>\n",
       "      <td>0.000000</td>\n",
       "      <td>1121.900000</td>\n",
       "    </tr>\n",
       "    <tr>\n",
       "      <th>25%</th>\n",
       "      <td>27.000000</td>\n",
       "      <td>54.000000</td>\n",
       "      <td>25.700000</td>\n",
       "      <td>0.000000</td>\n",
       "      <td>64.000000</td>\n",
       "      <td>4846.900000</td>\n",
       "    </tr>\n",
       "    <tr>\n",
       "      <th>50%</th>\n",
       "      <td>40.000000</td>\n",
       "      <td>63.000000</td>\n",
       "      <td>29.400000</td>\n",
       "      <td>1.000000</td>\n",
       "      <td>71.000000</td>\n",
       "      <td>9545.650000</td>\n",
       "    </tr>\n",
       "    <tr>\n",
       "      <th>75%</th>\n",
       "      <td>52.000000</td>\n",
       "      <td>76.000000</td>\n",
       "      <td>34.400000</td>\n",
       "      <td>2.000000</td>\n",
       "      <td>80.000000</td>\n",
       "      <td>16519.125000</td>\n",
       "    </tr>\n",
       "    <tr>\n",
       "      <th>max</th>\n",
       "      <td>64.000000</td>\n",
       "      <td>95.000000</td>\n",
       "      <td>53.100000</td>\n",
       "      <td>5.000000</td>\n",
       "      <td>122.000000</td>\n",
       "      <td>63770.400000</td>\n",
       "    </tr>\n",
       "  </tbody>\n",
       "</table>\n",
       "</div>"
      ],
      "text/plain": [
       "                age        weight           bmi  no_of_dependents  \\\n",
       "count  14604.000000  15000.000000  14044.000000      15000.000000   \n",
       "mean      39.547521     64.909600     30.266413          1.129733   \n",
       "std       14.015966     13.701935      6.122950          1.228469   \n",
       "min       18.000000     34.000000     16.000000          0.000000   \n",
       "25%       27.000000     54.000000     25.700000          0.000000   \n",
       "50%       40.000000     63.000000     29.400000          1.000000   \n",
       "75%       52.000000     76.000000     34.400000          2.000000   \n",
       "max       64.000000     95.000000     53.100000          5.000000   \n",
       "\n",
       "       bloodpressure         claim  \n",
       "count   15000.000000  15000.000000  \n",
       "mean       68.650133  13401.437620  \n",
       "std        19.418515  12148.239619  \n",
       "min         0.000000   1121.900000  \n",
       "25%        64.000000   4846.900000  \n",
       "50%        71.000000   9545.650000  \n",
       "75%        80.000000  16519.125000  \n",
       "max       122.000000  63770.400000  "
      ]
     },
     "execution_count": 17,
     "metadata": {},
     "output_type": "execute_result"
    }
   ],
   "source": [
    "df.describe()"
   ]
  },
  {
   "cell_type": "markdown",
   "metadata": {
    "id": "vQ_Lj-6t5Gxl"
   },
   "source": [
    "#### 2.5 Obtain summary For categorical features. (1m) "
   ]
  },
  {
   "cell_type": "code",
   "execution_count": 18,
   "metadata": {},
   "outputs": [
    {
     "data": {
      "text/html": [
       "<div>\n",
       "<style scoped>\n",
       "    .dataframe tbody tr th:only-of-type {\n",
       "        vertical-align: middle;\n",
       "    }\n",
       "\n",
       "    .dataframe tbody tr th {\n",
       "        vertical-align: top;\n",
       "    }\n",
       "\n",
       "    .dataframe thead th {\n",
       "        text-align: right;\n",
       "    }\n",
       "</style>\n",
       "<table border=\"1\" class=\"dataframe\">\n",
       "  <thead>\n",
       "    <tr style=\"text-align: right;\">\n",
       "      <th></th>\n",
       "      <th>sex</th>\n",
       "      <th>hereditary_diseases</th>\n",
       "      <th>smoker</th>\n",
       "      <th>city</th>\n",
       "      <th>diabetes</th>\n",
       "      <th>regular_ex</th>\n",
       "      <th>job_title</th>\n",
       "    </tr>\n",
       "  </thead>\n",
       "  <tbody>\n",
       "    <tr>\n",
       "      <th>count</th>\n",
       "      <td>15000</td>\n",
       "      <td>15000</td>\n",
       "      <td>15000</td>\n",
       "      <td>15000</td>\n",
       "      <td>15000</td>\n",
       "      <td>15000</td>\n",
       "      <td>15000</td>\n",
       "    </tr>\n",
       "    <tr>\n",
       "      <th>unique</th>\n",
       "      <td>2</td>\n",
       "      <td>10</td>\n",
       "      <td>2</td>\n",
       "      <td>91</td>\n",
       "      <td>2</td>\n",
       "      <td>2</td>\n",
       "      <td>35</td>\n",
       "    </tr>\n",
       "    <tr>\n",
       "      <th>top</th>\n",
       "      <td>female</td>\n",
       "      <td>NoDisease</td>\n",
       "      <td>0</td>\n",
       "      <td>NewOrleans</td>\n",
       "      <td>1</td>\n",
       "      <td>0</td>\n",
       "      <td>Student</td>\n",
       "    </tr>\n",
       "    <tr>\n",
       "      <th>freq</th>\n",
       "      <td>7652</td>\n",
       "      <td>13998</td>\n",
       "      <td>12028</td>\n",
       "      <td>302</td>\n",
       "      <td>11655</td>\n",
       "      <td>11638</td>\n",
       "      <td>1320</td>\n",
       "    </tr>\n",
       "  </tbody>\n",
       "</table>\n",
       "</div>"
      ],
      "text/plain": [
       "           sex hereditary_diseases smoker        city diabetes regular_ex  \\\n",
       "count    15000               15000  15000       15000    15000      15000   \n",
       "unique       2                  10      2          91        2          2   \n",
       "top     female           NoDisease      0  NewOrleans        1          0   \n",
       "freq      7652               13998  12028         302    11655      11638   \n",
       "\n",
       "       job_title  \n",
       "count      15000  \n",
       "unique        35  \n",
       "top      Student  \n",
       "freq        1320  "
      ]
     },
     "execution_count": 18,
     "metadata": {},
     "output_type": "execute_result"
    }
   ],
   "source": [
    "df.describe(include='object')"
   ]
  },
  {
   "cell_type": "markdown",
   "metadata": {},
   "source": [
    "## 3 : Missing value analysis. "
   ]
  },
  {
   "cell_type": "markdown",
   "metadata": {
    "id": "MiTunCzF5Gxn"
   },
   "source": [
    "\n",
    "#### 3.1 Check if any column contains missing Values. (2m)"
   ]
  },
  {
   "cell_type": "code",
   "execution_count": 19,
   "metadata": {},
   "outputs": [
    {
     "data": {
      "text/plain": [
       "age                    396\n",
       "sex                      0\n",
       "weight                   0\n",
       "bmi                    956\n",
       "hereditary_diseases      0\n",
       "no_of_dependents         0\n",
       "smoker                   0\n",
       "city                     0\n",
       "bloodpressure            0\n",
       "diabetes                 0\n",
       "regular_ex               0\n",
       "job_title                0\n",
       "claim                    0\n",
       "dtype: int64"
      ]
     },
     "execution_count": 19,
     "metadata": {},
     "output_type": "execute_result"
    }
   ],
   "source": [
    "df.isnull().sum()"
   ]
  },
  {
   "cell_type": "markdown",
   "metadata": {},
   "source": [
    "#### 3.2 Find out the percentage of missing values. (2m)"
   ]
  },
  {
   "cell_type": "code",
   "execution_count": 20,
   "metadata": {},
   "outputs": [
    {
     "data": {
      "text/plain": [
       "age                    2.640000\n",
       "sex                    0.000000\n",
       "weight                 0.000000\n",
       "bmi                    6.373333\n",
       "hereditary_diseases    0.000000\n",
       "no_of_dependents       0.000000\n",
       "smoker                 0.000000\n",
       "city                   0.000000\n",
       "bloodpressure          0.000000\n",
       "diabetes               0.000000\n",
       "regular_ex             0.000000\n",
       "job_title              0.000000\n",
       "claim                  0.000000\n",
       "dtype: float64"
      ]
     },
     "execution_count": 20,
     "metadata": {},
     "output_type": "execute_result"
    }
   ],
   "source": [
    "df.isnull().sum()*100/len(df)"
   ]
  },
  {
   "cell_type": "markdown",
   "metadata": {},
   "source": [
    "#### 3.3 For age and bmi columns, fill the missing values with their respective means. (4m)"
   ]
  },
  {
   "cell_type": "code",
   "execution_count": 21,
   "metadata": {},
   "outputs": [],
   "source": [
    "mean_value_age = df['age'].mean()\n",
    "df['age'].fillna(value=mean_value_age, inplace=True)\n",
    "mean_value_bmi = df['bmi'].mean()\n",
    "df['bmi'].fillna(value=mean_value_bmi, inplace=True)\n"
   ]
  },
  {
   "cell_type": "code",
   "execution_count": 22,
   "metadata": {},
   "outputs": [
    {
     "data": {
      "text/plain": [
       "age                    0\n",
       "sex                    0\n",
       "weight                 0\n",
       "bmi                    0\n",
       "hereditary_diseases    0\n",
       "no_of_dependents       0\n",
       "smoker                 0\n",
       "city                   0\n",
       "bloodpressure          0\n",
       "diabetes               0\n",
       "regular_ex             0\n",
       "job_title              0\n",
       "claim                  0\n",
       "dtype: int64"
      ]
     },
     "execution_count": 22,
     "metadata": {},
     "output_type": "execute_result"
    }
   ],
   "source": [
    "df.isnull().sum()"
   ]
  },
  {
   "cell_type": "markdown",
   "metadata": {
    "id": "UpArIJhB5Gxs"
   },
   "source": [
    "#### 3.4 We have seen that the the minimum bloodpressure is 0, which is absurd. It implies that these are missing values. Replace all these zeros with the median of that column. (2m)"
   ]
  },
  {
   "cell_type": "code",
   "execution_count": 23,
   "metadata": {},
   "outputs": [],
   "source": [
    "BloodPressure_col = df['bloodpressure'].median()\n",
    "df['bloodpressure'].replace(to_replace = 0, value = BloodPressure_col, inplace=True)"
   ]
  },
  {
   "cell_type": "markdown",
   "metadata": {
    "id": "JaoY8GxT5Gxt"
   },
   "source": [
    "#### 3.5 Recheck the summary statistics to confirm the missing value treatment for the variable 'bloodpressure'. (1m) "
   ]
  },
  {
   "cell_type": "code",
   "execution_count": 24,
   "metadata": {},
   "outputs": [
    {
     "data": {
      "text/html": [
       "<div>\n",
       "<style scoped>\n",
       "    .dataframe tbody tr th:only-of-type {\n",
       "        vertical-align: middle;\n",
       "    }\n",
       "\n",
       "    .dataframe tbody tr th {\n",
       "        vertical-align: top;\n",
       "    }\n",
       "\n",
       "    .dataframe thead th {\n",
       "        text-align: right;\n",
       "    }\n",
       "</style>\n",
       "<table border=\"1\" class=\"dataframe\">\n",
       "  <thead>\n",
       "    <tr style=\"text-align: right;\">\n",
       "      <th></th>\n",
       "      <th>age</th>\n",
       "      <th>weight</th>\n",
       "      <th>bmi</th>\n",
       "      <th>no_of_dependents</th>\n",
       "      <th>bloodpressure</th>\n",
       "      <th>claim</th>\n",
       "    </tr>\n",
       "  </thead>\n",
       "  <tbody>\n",
       "    <tr>\n",
       "      <th>count</th>\n",
       "      <td>15000.000000</td>\n",
       "      <td>15000.000000</td>\n",
       "      <td>15000.000000</td>\n",
       "      <td>15000.000000</td>\n",
       "      <td>15000.000000</td>\n",
       "      <td>15000.000000</td>\n",
       "    </tr>\n",
       "    <tr>\n",
       "      <th>mean</th>\n",
       "      <td>39.547521</td>\n",
       "      <td>64.909600</td>\n",
       "      <td>30.266413</td>\n",
       "      <td>1.129733</td>\n",
       "      <td>72.228533</td>\n",
       "      <td>13401.437620</td>\n",
       "    </tr>\n",
       "    <tr>\n",
       "      <th>std</th>\n",
       "      <td>13.829705</td>\n",
       "      <td>13.701935</td>\n",
       "      <td>5.924606</td>\n",
       "      <td>1.228469</td>\n",
       "      <td>11.269793</td>\n",
       "      <td>12148.239619</td>\n",
       "    </tr>\n",
       "    <tr>\n",
       "      <th>min</th>\n",
       "      <td>18.000000</td>\n",
       "      <td>34.000000</td>\n",
       "      <td>16.000000</td>\n",
       "      <td>0.000000</td>\n",
       "      <td>40.000000</td>\n",
       "      <td>1121.900000</td>\n",
       "    </tr>\n",
       "    <tr>\n",
       "      <th>25%</th>\n",
       "      <td>27.000000</td>\n",
       "      <td>54.000000</td>\n",
       "      <td>25.900000</td>\n",
       "      <td>0.000000</td>\n",
       "      <td>64.000000</td>\n",
       "      <td>4846.900000</td>\n",
       "    </tr>\n",
       "    <tr>\n",
       "      <th>50%</th>\n",
       "      <td>40.000000</td>\n",
       "      <td>63.000000</td>\n",
       "      <td>29.800000</td>\n",
       "      <td>1.000000</td>\n",
       "      <td>71.000000</td>\n",
       "      <td>9545.650000</td>\n",
       "    </tr>\n",
       "    <tr>\n",
       "      <th>75%</th>\n",
       "      <td>51.000000</td>\n",
       "      <td>76.000000</td>\n",
       "      <td>34.100000</td>\n",
       "      <td>2.000000</td>\n",
       "      <td>80.000000</td>\n",
       "      <td>16519.125000</td>\n",
       "    </tr>\n",
       "    <tr>\n",
       "      <th>max</th>\n",
       "      <td>64.000000</td>\n",
       "      <td>95.000000</td>\n",
       "      <td>53.100000</td>\n",
       "      <td>5.000000</td>\n",
       "      <td>122.000000</td>\n",
       "      <td>63770.400000</td>\n",
       "    </tr>\n",
       "  </tbody>\n",
       "</table>\n",
       "</div>"
      ],
      "text/plain": [
       "                age        weight           bmi  no_of_dependents  \\\n",
       "count  15000.000000  15000.000000  15000.000000      15000.000000   \n",
       "mean      39.547521     64.909600     30.266413          1.129733   \n",
       "std       13.829705     13.701935      5.924606          1.228469   \n",
       "min       18.000000     34.000000     16.000000          0.000000   \n",
       "25%       27.000000     54.000000     25.900000          0.000000   \n",
       "50%       40.000000     63.000000     29.800000          1.000000   \n",
       "75%       51.000000     76.000000     34.100000          2.000000   \n",
       "max       64.000000     95.000000     53.100000          5.000000   \n",
       "\n",
       "       bloodpressure         claim  \n",
       "count   15000.000000  15000.000000  \n",
       "mean       72.228533  13401.437620  \n",
       "std        11.269793  12148.239619  \n",
       "min        40.000000   1121.900000  \n",
       "25%        64.000000   4846.900000  \n",
       "50%        71.000000   9545.650000  \n",
       "75%        80.000000  16519.125000  \n",
       "max       122.000000  63770.400000  "
      ]
     },
     "execution_count": 24,
     "metadata": {},
     "output_type": "execute_result"
    }
   ],
   "source": [
    "df.describe()"
   ]
  },
  {
   "cell_type": "markdown",
   "metadata": {
    "id": "5t5POIFn5Gxv"
   },
   "source": [
    "#### 4. Visualize the correlation matrix with heatmap. Write appropriate conclusions. (3m)"
   ]
  },
  {
   "cell_type": "code",
   "execution_count": 46,
   "metadata": {},
   "outputs": [
    {
     "data": {
      "image/png": "[encoded data removed]",
      "text/plain": [
       "<Figure size 432x288 with 2 Axes>"
      ]
     },
     "metadata": {
      "needs_background": "light"
     },
     "output_type": "display_data"
    }
   ],
   "source": [
    "from scipy import stats\n",
    "df.corr()\n",
    "import seaborn as sns\n",
    "corr = df.corr()\n",
    "# plot the heatmap\n",
    "sns.heatmap(corr, \n",
    "        xticklabels=corr.columns,\n",
    "        yticklabels=corr.columns, annot = True, cmap = 'YlOrBr')\n",
    "plt.show()"
   ]
  },
  {
   "cell_type": "code",
   "execution_count": null,
   "metadata": {},
   "outputs": [],
   "source": [
    "All the diagonals are 1 because they are correlating each variable to itself so its perfect correlation.The values which are greater than 0 or dark colors (according to heatmap) are positively correlated.Darker the color more positively it is correlated. The lighter colors or the values closer to -1 (or less than 0) are negatively correlated. Lighter the color more it is negatively correlated."
   ]
  },
  {
   "cell_type": "markdown",
   "metadata": {},
   "source": [
    "#### 5. There are 91 cities in the data, it means 91 unique cities. Drop this city column from the dataframe. We will not use it for prediction. (2m)"
   ]
  },
  {
   "cell_type": "code",
   "execution_count": 26,
   "metadata": {},
   "outputs": [],
   "source": [
    "df = df.drop(['city'],axis=1)"
   ]
  },
  {
   "cell_type": "markdown",
   "metadata": {},
   "source": [
    "## 6. Separating the variables. "
   ]
  },
  {
   "cell_type": "markdown",
   "metadata": {},
   "source": [
    "#### 6.1 Separate x and y. Store all the independent columns in df1. Store 'claim' in y. (2m)"
   ]
  },
  {
   "cell_type": "code",
   "execution_count": 27,
   "metadata": {},
   "outputs": [
    {
     "data": {
      "text/html": [
       "<div>\n",
       "<style scoped>\n",
       "    .dataframe tbody tr th:only-of-type {\n",
       "        vertical-align: middle;\n",
       "    }\n",
       "\n",
       "    .dataframe tbody tr th {\n",
       "        vertical-align: top;\n",
       "    }\n",
       "\n",
       "    .dataframe thead th {\n",
       "        text-align: right;\n",
       "    }\n",
       "</style>\n",
       "<table border=\"1\" class=\"dataframe\">\n",
       "  <thead>\n",
       "    <tr style=\"text-align: right;\">\n",
       "      <th></th>\n",
       "      <th>age</th>\n",
       "      <th>sex</th>\n",
       "      <th>weight</th>\n",
       "      <th>bmi</th>\n",
       "      <th>hereditary_diseases</th>\n",
       "      <th>no_of_dependents</th>\n",
       "      <th>smoker</th>\n",
       "      <th>bloodpressure</th>\n",
       "      <th>diabetes</th>\n",
       "      <th>regular_ex</th>\n",
       "      <th>job_title</th>\n",
       "    </tr>\n",
       "  </thead>\n",
       "  <tbody>\n",
       "    <tr>\n",
       "      <th>0</th>\n",
       "      <td>60.0</td>\n",
       "      <td>male</td>\n",
       "      <td>64</td>\n",
       "      <td>24.3</td>\n",
       "      <td>NoDisease</td>\n",
       "      <td>1</td>\n",
       "      <td>0</td>\n",
       "      <td>72</td>\n",
       "      <td>0</td>\n",
       "      <td>0</td>\n",
       "      <td>Actor</td>\n",
       "    </tr>\n",
       "    <tr>\n",
       "      <th>1</th>\n",
       "      <td>49.0</td>\n",
       "      <td>female</td>\n",
       "      <td>75</td>\n",
       "      <td>22.6</td>\n",
       "      <td>NoDisease</td>\n",
       "      <td>1</td>\n",
       "      <td>0</td>\n",
       "      <td>78</td>\n",
       "      <td>1</td>\n",
       "      <td>1</td>\n",
       "      <td>Engineer</td>\n",
       "    </tr>\n",
       "    <tr>\n",
       "      <th>2</th>\n",
       "      <td>32.0</td>\n",
       "      <td>female</td>\n",
       "      <td>64</td>\n",
       "      <td>17.8</td>\n",
       "      <td>Epilepsy</td>\n",
       "      <td>2</td>\n",
       "      <td>1</td>\n",
       "      <td>88</td>\n",
       "      <td>1</td>\n",
       "      <td>1</td>\n",
       "      <td>Academician</td>\n",
       "    </tr>\n",
       "    <tr>\n",
       "      <th>3</th>\n",
       "      <td>61.0</td>\n",
       "      <td>female</td>\n",
       "      <td>53</td>\n",
       "      <td>36.4</td>\n",
       "      <td>NoDisease</td>\n",
       "      <td>1</td>\n",
       "      <td>1</td>\n",
       "      <td>72</td>\n",
       "      <td>1</td>\n",
       "      <td>0</td>\n",
       "      <td>Chef</td>\n",
       "    </tr>\n",
       "    <tr>\n",
       "      <th>4</th>\n",
       "      <td>19.0</td>\n",
       "      <td>female</td>\n",
       "      <td>50</td>\n",
       "      <td>20.6</td>\n",
       "      <td>NoDisease</td>\n",
       "      <td>0</td>\n",
       "      <td>0</td>\n",
       "      <td>82</td>\n",
       "      <td>1</td>\n",
       "      <td>0</td>\n",
       "      <td>HomeMakers</td>\n",
       "    </tr>\n",
       "    <tr>\n",
       "      <th>...</th>\n",
       "      <td>...</td>\n",
       "      <td>...</td>\n",
       "      <td>...</td>\n",
       "      <td>...</td>\n",
       "      <td>...</td>\n",
       "      <td>...</td>\n",
       "      <td>...</td>\n",
       "      <td>...</td>\n",
       "      <td>...</td>\n",
       "      <td>...</td>\n",
       "      <td>...</td>\n",
       "    </tr>\n",
       "    <tr>\n",
       "      <th>14995</th>\n",
       "      <td>39.0</td>\n",
       "      <td>male</td>\n",
       "      <td>49</td>\n",
       "      <td>28.3</td>\n",
       "      <td>NoDisease</td>\n",
       "      <td>1</td>\n",
       "      <td>1</td>\n",
       "      <td>54</td>\n",
       "      <td>1</td>\n",
       "      <td>0</td>\n",
       "      <td>FilmMaker</td>\n",
       "    </tr>\n",
       "    <tr>\n",
       "      <th>14996</th>\n",
       "      <td>39.0</td>\n",
       "      <td>male</td>\n",
       "      <td>74</td>\n",
       "      <td>29.6</td>\n",
       "      <td>NoDisease</td>\n",
       "      <td>4</td>\n",
       "      <td>0</td>\n",
       "      <td>64</td>\n",
       "      <td>1</td>\n",
       "      <td>0</td>\n",
       "      <td>Student</td>\n",
       "    </tr>\n",
       "    <tr>\n",
       "      <th>14997</th>\n",
       "      <td>20.0</td>\n",
       "      <td>male</td>\n",
       "      <td>62</td>\n",
       "      <td>33.3</td>\n",
       "      <td>NoDisease</td>\n",
       "      <td>0</td>\n",
       "      <td>0</td>\n",
       "      <td>52</td>\n",
       "      <td>1</td>\n",
       "      <td>0</td>\n",
       "      <td>FashionDesigner</td>\n",
       "    </tr>\n",
       "    <tr>\n",
       "      <th>14998</th>\n",
       "      <td>52.0</td>\n",
       "      <td>male</td>\n",
       "      <td>88</td>\n",
       "      <td>36.7</td>\n",
       "      <td>NoDisease</td>\n",
       "      <td>0</td>\n",
       "      <td>0</td>\n",
       "      <td>70</td>\n",
       "      <td>1</td>\n",
       "      <td>0</td>\n",
       "      <td>Farmer</td>\n",
       "    </tr>\n",
       "    <tr>\n",
       "      <th>14999</th>\n",
       "      <td>52.0</td>\n",
       "      <td>male</td>\n",
       "      <td>57</td>\n",
       "      <td>26.4</td>\n",
       "      <td>NoDisease</td>\n",
       "      <td>3</td>\n",
       "      <td>0</td>\n",
       "      <td>72</td>\n",
       "      <td>1</td>\n",
       "      <td>0</td>\n",
       "      <td>Manager</td>\n",
       "    </tr>\n",
       "  </tbody>\n",
       "</table>\n",
       "<p>15000 rows × 11 columns</p>\n",
       "</div>"
      ],
      "text/plain": [
       "        age     sex  weight   bmi hereditary_diseases  no_of_dependents  \\\n",
       "0      60.0    male      64  24.3           NoDisease                 1   \n",
       "1      49.0  female      75  22.6           NoDisease                 1   \n",
       "2      32.0  female      64  17.8            Epilepsy                 2   \n",
       "3      61.0  female      53  36.4           NoDisease                 1   \n",
       "4      19.0  female      50  20.6           NoDisease                 0   \n",
       "...     ...     ...     ...   ...                 ...               ...   \n",
       "14995  39.0    male      49  28.3           NoDisease                 1   \n",
       "14996  39.0    male      74  29.6           NoDisease                 4   \n",
       "14997  20.0    male      62  33.3           NoDisease                 0   \n",
       "14998  52.0    male      88  36.7           NoDisease                 0   \n",
       "14999  52.0    male      57  26.4           NoDisease                 3   \n",
       "\n",
       "      smoker  bloodpressure diabetes regular_ex        job_title  \n",
       "0          0             72        0          0            Actor  \n",
       "1          0             78        1          1         Engineer  \n",
       "2          1             88        1          1      Academician  \n",
       "3          1             72        1          0             Chef  \n",
       "4          0             82        1          0       HomeMakers  \n",
       "...      ...            ...      ...        ...              ...  \n",
       "14995      1             54        1          0        FilmMaker  \n",
       "14996      0             64        1          0          Student  \n",
       "14997      0             52        1          0  FashionDesigner  \n",
       "14998      0             70        1          0           Farmer  \n",
       "14999      0             72        1          0          Manager  \n",
       "\n",
       "[15000 rows x 11 columns]"
      ]
     },
     "execution_count": 27,
     "metadata": {},
     "output_type": "execute_result"
    }
   ],
   "source": [
    "df1 = df.loc[:,df.columns != 'claim']\n",
    "y = df['claim']\n",
    "df1"
   ]
  },
  {
   "cell_type": "markdown",
   "metadata": {},
   "source": [
    "#### 6.2 Separate numerical and categorical columns from df1 and store them Separately. (2m)"
   ]
  },
  {
   "cell_type": "code",
   "execution_count": 28,
   "metadata": {},
   "outputs": [
    {
     "data": {
      "text/html": [
       "<div>\n",
       "<style scoped>\n",
       "    .dataframe tbody tr th:only-of-type {\n",
       "        vertical-align: middle;\n",
       "    }\n",
       "\n",
       "    .dataframe tbody tr th {\n",
       "        vertical-align: top;\n",
       "    }\n",
       "\n",
       "    .dataframe thead th {\n",
       "        text-align: right;\n",
       "    }\n",
       "</style>\n",
       "<table border=\"1\" class=\"dataframe\">\n",
       "  <thead>\n",
       "    <tr style=\"text-align: right;\">\n",
       "      <th></th>\n",
       "      <th>sex</th>\n",
       "      <th>hereditary_diseases</th>\n",
       "      <th>smoker</th>\n",
       "      <th>diabetes</th>\n",
       "      <th>regular_ex</th>\n",
       "      <th>job_title</th>\n",
       "    </tr>\n",
       "  </thead>\n",
       "  <tbody>\n",
       "    <tr>\n",
       "      <th>0</th>\n",
       "      <td>male</td>\n",
       "      <td>NoDisease</td>\n",
       "      <td>0</td>\n",
       "      <td>0</td>\n",
       "      <td>0</td>\n",
       "      <td>Actor</td>\n",
       "    </tr>\n",
       "    <tr>\n",
       "      <th>1</th>\n",
       "      <td>female</td>\n",
       "      <td>NoDisease</td>\n",
       "      <td>0</td>\n",
       "      <td>1</td>\n",
       "      <td>1</td>\n",
       "      <td>Engineer</td>\n",
       "    </tr>\n",
       "    <tr>\n",
       "      <th>2</th>\n",
       "      <td>female</td>\n",
       "      <td>Epilepsy</td>\n",
       "      <td>1</td>\n",
       "      <td>1</td>\n",
       "      <td>1</td>\n",
       "      <td>Academician</td>\n",
       "    </tr>\n",
       "    <tr>\n",
       "      <th>3</th>\n",
       "      <td>female</td>\n",
       "      <td>NoDisease</td>\n",
       "      <td>1</td>\n",
       "      <td>1</td>\n",
       "      <td>0</td>\n",
       "      <td>Chef</td>\n",
       "    </tr>\n",
       "    <tr>\n",
       "      <th>4</th>\n",
       "      <td>female</td>\n",
       "      <td>NoDisease</td>\n",
       "      <td>0</td>\n",
       "      <td>1</td>\n",
       "      <td>0</td>\n",
       "      <td>HomeMakers</td>\n",
       "    </tr>\n",
       "    <tr>\n",
       "      <th>...</th>\n",
       "      <td>...</td>\n",
       "      <td>...</td>\n",
       "      <td>...</td>\n",
       "      <td>...</td>\n",
       "      <td>...</td>\n",
       "      <td>...</td>\n",
       "    </tr>\n",
       "    <tr>\n",
       "      <th>14995</th>\n",
       "      <td>male</td>\n",
       "      <td>NoDisease</td>\n",
       "      <td>1</td>\n",
       "      <td>1</td>\n",
       "      <td>0</td>\n",
       "      <td>FilmMaker</td>\n",
       "    </tr>\n",
       "    <tr>\n",
       "      <th>14996</th>\n",
       "      <td>male</td>\n",
       "      <td>NoDisease</td>\n",
       "      <td>0</td>\n",
       "      <td>1</td>\n",
       "      <td>0</td>\n",
       "      <td>Student</td>\n",
       "    </tr>\n",
       "    <tr>\n",
       "      <th>14997</th>\n",
       "      <td>male</td>\n",
       "      <td>NoDisease</td>\n",
       "      <td>0</td>\n",
       "      <td>1</td>\n",
       "      <td>0</td>\n",
       "      <td>FashionDesigner</td>\n",
       "    </tr>\n",
       "    <tr>\n",
       "      <th>14998</th>\n",
       "      <td>male</td>\n",
       "      <td>NoDisease</td>\n",
       "      <td>0</td>\n",
       "      <td>1</td>\n",
       "      <td>0</td>\n",
       "      <td>Farmer</td>\n",
       "    </tr>\n",
       "    <tr>\n",
       "      <th>14999</th>\n",
       "      <td>male</td>\n",
       "      <td>NoDisease</td>\n",
       "      <td>0</td>\n",
       "      <td>1</td>\n",
       "      <td>0</td>\n",
       "      <td>Manager</td>\n",
       "    </tr>\n",
       "  </tbody>\n",
       "</table>\n",
       "<p>15000 rows × 6 columns</p>\n",
       "</div>"
      ],
      "text/plain": [
       "          sex hereditary_diseases smoker diabetes regular_ex        job_title\n",
       "0        male           NoDisease      0        0          0            Actor\n",
       "1      female           NoDisease      0        1          1         Engineer\n",
       "2      female            Epilepsy      1        1          1      Academician\n",
       "3      female           NoDisease      1        1          0             Chef\n",
       "4      female           NoDisease      0        1          0       HomeMakers\n",
       "...       ...                 ...    ...      ...        ...              ...\n",
       "14995    male           NoDisease      1        1          0        FilmMaker\n",
       "14996    male           NoDisease      0        1          0          Student\n",
       "14997    male           NoDisease      0        1          0  FashionDesigner\n",
       "14998    male           NoDisease      0        1          0           Farmer\n",
       "14999    male           NoDisease      0        1          0          Manager\n",
       "\n",
       "[15000 rows x 6 columns]"
      ]
     },
     "execution_count": 28,
     "metadata": {},
     "output_type": "execute_result"
    }
   ],
   "source": [
    "df1_cat = df1.select_dtypes(include='object')\n",
    "df1_num = df1.select_dtypes(np.number)\n",
    "df1_cat"
   ]
  },
  {
   "cell_type": "markdown",
   "metadata": {},
   "source": [
    "#### 6.3 For all the categorical columns, plot thr countplot and write conclusions. (2m)"
   ]
  },
  {
   "cell_type": "code",
   "execution_count": 29,
   "metadata": {},
   "outputs": [
    {
     "data": {
      "text/plain": [
       "['sex', 'hereditary_diseases', 'smoker', 'diabetes', 'regular_ex', 'job_title']"
      ]
     },
     "execution_count": 29,
     "metadata": {},
     "output_type": "execute_result"
    }
   ],
   "source": [
    "catcall=list(df1_cat.columns)\n",
    "catcall"
   ]
  },
  {
   "cell_type": "code",
   "execution_count": 30,
   "metadata": {},
   "outputs": [
    {
     "data": {
      "image/png": "[encoded data removed]",
      "text/plain": [
       "<Figure size 1440x1080 with 6 Axes>"
      ]
     },
     "metadata": {
      "needs_background": "light"
     },
     "output_type": "display_data"
    }
   ],
   "source": [
    "\n",
    "plt.figure(figsize=(20,15))\n",
    "a=4\n",
    "b=2\n",
    "c=1\n",
    "for i in df1_cat:\n",
    "    plt.subplot(a,b,c)\n",
    "    sns.countplot(df1_cat[i])\n",
    "    plt.xlabel(i)\n",
    "    c=c+1\n",
    "plt.tight_layout()\n",
    "plt.show()"
   ]
  },
  {
   "cell_type": "code",
   "execution_count": null,
   "metadata": {},
   "outputs": [],
   "source": [
    "conclusion\n",
    "Plot 1: Number of Male and Female are NEARLY equal.\n",
    "Plot 2:Number of healthy patients are Nome\n",
    "Plot 3: Number of non smoker are more\n",
    "Plot 4: Diabetes patiemts are more\n",
    "Plot 5: Most of the people do not exercise regularly.\n",
    "Plot 6: Variable Job Profile"
   ]
  },
  {
   "cell_type": "markdown",
   "metadata": {},
   "source": [
    "#### 6.4 For all the numerical columns, plot the boxplot and write conclusions. (2m)"
   ]
  },
  {
   "cell_type": "code",
   "execution_count": 31,
   "metadata": {},
   "outputs": [
    {
     "data": {
      "image/png": "[encoded data removed]",
      "text/plain": [
       "<Figure size 1440x1080 with 5 Axes>"
      ]
     },
     "metadata": {
      "needs_background": "light"
     },
     "output_type": "display_data"
    }
   ],
   "source": [
    "\n",
    "plt.figure(figsize=(20,15))\n",
    "a=5\n",
    "b=2\n",
    "c=1\n",
    "for i in df1_num:\n",
    "    plt.subplot(a,b,c)\n",
    "    sns.boxplot(df1_num[i])\n",
    "    plt.xlabel(i)\n",
    "    c=c+1\n",
    "plt.tight_layout()\n",
    "plt.show()"
   ]
  },
  {
   "cell_type": "code",
   "execution_count": null,
   "metadata": {},
   "outputs": [],
   "source": [
    "the box represents the middle 50% of all the datapoints which represents the core region when the data is situated. The height of the boxplot is also called the Inter Quartile Range (IQR), which mathematically is the difference between the 75th and 25th percentile values of the data.\n",
    "\n",
    "The thick line in the middle of the box represents the median. Whereas, the upper and lower whisker marks 1.5 times the IQR from the top (and bottom) of the box.\n",
    "the points that lie outside the whiskers, that is, (1.5 x IQR) in both directions are generally considered as outliers."
   ]
  },
  {
   "cell_type": "markdown",
   "metadata": {},
   "source": [
    "#### 7. Check multicollinearity using VIF. (2m)"
   ]
  },
  {
   "cell_type": "code",
   "execution_count": 32,
   "metadata": {},
   "outputs": [],
   "source": [
    "from statsmodels.stats.outliers_influence import variance_inflation_factor as VIF"
   ]
  },
  {
   "cell_type": "code",
   "execution_count": 33,
   "metadata": {},
   "outputs": [
    {
     "data": {
      "text/plain": [
       "Index(['age', 'weight', 'bmi', 'no_of_dependents', 'bloodpressure'], dtype='object')"
      ]
     },
     "execution_count": 33,
     "metadata": {},
     "output_type": "execute_result"
    }
   ],
   "source": [
    "df1_num.columns \n",
    "\n",
    "\n"
   ]
  },
  {
   "cell_type": "code",
   "execution_count": 34,
   "metadata": {},
   "outputs": [
    {
     "data": {
      "text/plain": [
       "array([[60. , 64. , 24.3,  1. , 72. ],\n",
       "       [49. , 75. , 22.6,  1. , 78. ],\n",
       "       [32. , 64. , 17.8,  2. , 88. ],\n",
       "       ...,\n",
       "       [20. , 62. , 33.3,  0. , 52. ],\n",
       "       [52. , 88. , 36.7,  0. , 70. ],\n",
       "       [52. , 57. , 26.4,  3. , 72. ]])"
      ]
     },
     "execution_count": 34,
     "metadata": {},
     "output_type": "execute_result"
    }
   ],
   "source": [
    "df1_num\n",
    "df1_num.values"
   ]
  },
  {
   "cell_type": "code",
   "execution_count": 35,
   "metadata": {},
   "outputs": [
    {
     "data": {
      "text/plain": [
       "5"
      ]
     },
     "execution_count": 35,
     "metadata": {},
     "output_type": "execute_result"
    }
   ],
   "source": [
    "df1_num.shape[1]"
   ]
  },
  {
   "cell_type": "code",
   "execution_count": 36,
   "metadata": {},
   "outputs": [
    {
     "name": "stdout",
     "output_type": "stream",
     "text": [
      "10.00652180506797\n",
      "23.99420898251604\n",
      "22.93796406155911\n",
      "1.8840236251826636\n",
      "20.819317809683668\n"
     ]
    }
   ],
   "source": [
    "\n",
    "for i in range(df1_num.shape[1]):\n",
    "  print(VIF(df1_num.values,i))"
   ]
  },
  {
   "cell_type": "code",
   "execution_count": 37,
   "metadata": {},
   "outputs": [
    {
     "data": {
      "text/plain": [
       "[10.00652180506797,\n",
       " 23.99420898251604,\n",
       " 22.93796406155911,\n",
       " 1.8840236251826636,\n",
       " 20.819317809683668]"
      ]
     },
     "execution_count": 37,
     "metadata": {},
     "output_type": "execute_result"
    }
   ],
   "source": [
    "VIF_values= [VIF(df1_num.values,i) for i in range(df1_num.shape[1])]\n",
    "## dont consider for constant\n",
    "VIF_values"
   ]
  },
  {
   "cell_type": "code",
   "execution_count": 38,
   "metadata": {},
   "outputs": [
    {
     "data": {
      "text/html": [
       "<div>\n",
       "<style scoped>\n",
       "    .dataframe tbody tr th:only-of-type {\n",
       "        vertical-align: middle;\n",
       "    }\n",
       "\n",
       "    .dataframe tbody tr th {\n",
       "        vertical-align: top;\n",
       "    }\n",
       "\n",
       "    .dataframe thead th {\n",
       "        text-align: right;\n",
       "    }\n",
       "</style>\n",
       "<table border=\"1\" class=\"dataframe\">\n",
       "  <thead>\n",
       "    <tr style=\"text-align: right;\">\n",
       "      <th></th>\n",
       "      <th>VIF_val</th>\n",
       "    </tr>\n",
       "  </thead>\n",
       "  <tbody>\n",
       "    <tr>\n",
       "      <th>weight</th>\n",
       "      <td>23.994209</td>\n",
       "    </tr>\n",
       "    <tr>\n",
       "      <th>bmi</th>\n",
       "      <td>22.937964</td>\n",
       "    </tr>\n",
       "    <tr>\n",
       "      <th>bloodpressure</th>\n",
       "      <td>20.819318</td>\n",
       "    </tr>\n",
       "    <tr>\n",
       "      <th>age</th>\n",
       "      <td>10.006522</td>\n",
       "    </tr>\n",
       "    <tr>\n",
       "      <th>no_of_dependents</th>\n",
       "      <td>1.884024</td>\n",
       "    </tr>\n",
       "  </tbody>\n",
       "</table>\n",
       "</div>"
      ],
      "text/plain": [
       "                    VIF_val\n",
       "weight            23.994209\n",
       "bmi               22.937964\n",
       "bloodpressure     20.819318\n",
       "age               10.006522\n",
       "no_of_dependents   1.884024"
      ]
     },
     "execution_count": 38,
     "metadata": {},
     "output_type": "execute_result"
    }
   ],
   "source": [
    "\n",
    "VIFdf = pd.DataFrame(VIF_values,columns=['VIF_val'],index=df1_num.columns)\n",
    "VIFdf\n",
    "VIFdfsort = VIFdf.sort_values('VIF_val',ascending = False)\n",
    "VIFdfsort"
   ]
  },
  {
   "cell_type": "markdown",
   "metadata": {},
   "source": [
    "## 8. Preprocessing,combining and splitting the data."
   ]
  },
  {
   "cell_type": "markdown",
   "metadata": {
    "id": "UsRZ2DXZ5GyY"
   },
   "source": [
    "\n",
    "#### 8.1 Perform dummy Encoding for Categorical Variables. (2m)"
   ]
  },
  {
   "cell_type": "code",
   "execution_count": 39,
   "metadata": {},
   "outputs": [
    {
     "data": {
      "text/html": [
       "<div>\n",
       "<style scoped>\n",
       "    .dataframe tbody tr th:only-of-type {\n",
       "        vertical-align: middle;\n",
       "    }\n",
       "\n",
       "    .dataframe tbody tr th {\n",
       "        vertical-align: top;\n",
       "    }\n",
       "\n",
       "    .dataframe thead th {\n",
       "        text-align: right;\n",
       "    }\n",
       "</style>\n",
       "<table border=\"1\" class=\"dataframe\">\n",
       "  <thead>\n",
       "    <tr style=\"text-align: right;\">\n",
       "      <th></th>\n",
       "      <th>sex_male</th>\n",
       "      <th>hereditary_diseases_Arthritis</th>\n",
       "      <th>hereditary_diseases_Cancer</th>\n",
       "      <th>hereditary_diseases_Diabetes</th>\n",
       "      <th>hereditary_diseases_Epilepsy</th>\n",
       "      <th>hereditary_diseases_EyeDisease</th>\n",
       "      <th>hereditary_diseases_HeartDisease</th>\n",
       "      <th>hereditary_diseases_High BP</th>\n",
       "      <th>hereditary_diseases_NoDisease</th>\n",
       "      <th>hereditary_diseases_Obesity</th>\n",
       "      <th>...</th>\n",
       "      <th>job_title_Journalist</th>\n",
       "      <th>job_title_Labourer</th>\n",
       "      <th>job_title_Lawyer</th>\n",
       "      <th>job_title_Manager</th>\n",
       "      <th>job_title_Photographer</th>\n",
       "      <th>job_title_Police</th>\n",
       "      <th>job_title_Politician</th>\n",
       "      <th>job_title_Singer</th>\n",
       "      <th>job_title_Student</th>\n",
       "      <th>job_title_Technician</th>\n",
       "    </tr>\n",
       "  </thead>\n",
       "  <tbody>\n",
       "    <tr>\n",
       "      <th>0</th>\n",
       "      <td>1</td>\n",
       "      <td>0</td>\n",
       "      <td>0</td>\n",
       "      <td>0</td>\n",
       "      <td>0</td>\n",
       "      <td>0</td>\n",
       "      <td>0</td>\n",
       "      <td>0</td>\n",
       "      <td>1</td>\n",
       "      <td>0</td>\n",
       "      <td>...</td>\n",
       "      <td>0</td>\n",
       "      <td>0</td>\n",
       "      <td>0</td>\n",
       "      <td>0</td>\n",
       "      <td>0</td>\n",
       "      <td>0</td>\n",
       "      <td>0</td>\n",
       "      <td>0</td>\n",
       "      <td>0</td>\n",
       "      <td>0</td>\n",
       "    </tr>\n",
       "    <tr>\n",
       "      <th>1</th>\n",
       "      <td>0</td>\n",
       "      <td>0</td>\n",
       "      <td>0</td>\n",
       "      <td>0</td>\n",
       "      <td>0</td>\n",
       "      <td>0</td>\n",
       "      <td>0</td>\n",
       "      <td>0</td>\n",
       "      <td>1</td>\n",
       "      <td>0</td>\n",
       "      <td>...</td>\n",
       "      <td>0</td>\n",
       "      <td>0</td>\n",
       "      <td>0</td>\n",
       "      <td>0</td>\n",
       "      <td>0</td>\n",
       "      <td>0</td>\n",
       "      <td>0</td>\n",
       "      <td>0</td>\n",
       "      <td>0</td>\n",
       "      <td>0</td>\n",
       "    </tr>\n",
       "    <tr>\n",
       "      <th>2</th>\n",
       "      <td>0</td>\n",
       "      <td>0</td>\n",
       "      <td>0</td>\n",
       "      <td>0</td>\n",
       "      <td>1</td>\n",
       "      <td>0</td>\n",
       "      <td>0</td>\n",
       "      <td>0</td>\n",
       "      <td>0</td>\n",
       "      <td>0</td>\n",
       "      <td>...</td>\n",
       "      <td>0</td>\n",
       "      <td>0</td>\n",
       "      <td>0</td>\n",
       "      <td>0</td>\n",
       "      <td>0</td>\n",
       "      <td>0</td>\n",
       "      <td>0</td>\n",
       "      <td>0</td>\n",
       "      <td>0</td>\n",
       "      <td>0</td>\n",
       "    </tr>\n",
       "    <tr>\n",
       "      <th>3</th>\n",
       "      <td>0</td>\n",
       "      <td>0</td>\n",
       "      <td>0</td>\n",
       "      <td>0</td>\n",
       "      <td>0</td>\n",
       "      <td>0</td>\n",
       "      <td>0</td>\n",
       "      <td>0</td>\n",
       "      <td>1</td>\n",
       "      <td>0</td>\n",
       "      <td>...</td>\n",
       "      <td>0</td>\n",
       "      <td>0</td>\n",
       "      <td>0</td>\n",
       "      <td>0</td>\n",
       "      <td>0</td>\n",
       "      <td>0</td>\n",
       "      <td>0</td>\n",
       "      <td>0</td>\n",
       "      <td>0</td>\n",
       "      <td>0</td>\n",
       "    </tr>\n",
       "    <tr>\n",
       "      <th>4</th>\n",
       "      <td>0</td>\n",
       "      <td>0</td>\n",
       "      <td>0</td>\n",
       "      <td>0</td>\n",
       "      <td>0</td>\n",
       "      <td>0</td>\n",
       "      <td>0</td>\n",
       "      <td>0</td>\n",
       "      <td>1</td>\n",
       "      <td>0</td>\n",
       "      <td>...</td>\n",
       "      <td>0</td>\n",
       "      <td>0</td>\n",
       "      <td>0</td>\n",
       "      <td>0</td>\n",
       "      <td>0</td>\n",
       "      <td>0</td>\n",
       "      <td>0</td>\n",
       "      <td>0</td>\n",
       "      <td>0</td>\n",
       "      <td>0</td>\n",
       "    </tr>\n",
       "  </tbody>\n",
       "</table>\n",
       "<p>5 rows × 47 columns</p>\n",
       "</div>"
      ],
      "text/plain": [
       "   sex_male  hereditary_diseases_Arthritis  hereditary_diseases_Cancer  \\\n",
       "0         1                              0                           0   \n",
       "1         0                              0                           0   \n",
       "2         0                              0                           0   \n",
       "3         0                              0                           0   \n",
       "4         0                              0                           0   \n",
       "\n",
       "   hereditary_diseases_Diabetes  hereditary_diseases_Epilepsy  \\\n",
       "0                             0                             0   \n",
       "1                             0                             0   \n",
       "2                             0                             1   \n",
       "3                             0                             0   \n",
       "4                             0                             0   \n",
       "\n",
       "   hereditary_diseases_EyeDisease  hereditary_diseases_HeartDisease  \\\n",
       "0                               0                                 0   \n",
       "1                               0                                 0   \n",
       "2                               0                                 0   \n",
       "3                               0                                 0   \n",
       "4                               0                                 0   \n",
       "\n",
       "   hereditary_diseases_High BP  hereditary_diseases_NoDisease  \\\n",
       "0                            0                              1   \n",
       "1                            0                              1   \n",
       "2                            0                              0   \n",
       "3                            0                              1   \n",
       "4                            0                              1   \n",
       "\n",
       "   hereditary_diseases_Obesity  ...  job_title_Journalist  job_title_Labourer  \\\n",
       "0                            0  ...                     0                   0   \n",
       "1                            0  ...                     0                   0   \n",
       "2                            0  ...                     0                   0   \n",
       "3                            0  ...                     0                   0   \n",
       "4                            0  ...                     0                   0   \n",
       "\n",
       "   job_title_Lawyer  job_title_Manager  job_title_Photographer  \\\n",
       "0                 0                  0                       0   \n",
       "1                 0                  0                       0   \n",
       "2                 0                  0                       0   \n",
       "3                 0                  0                       0   \n",
       "4                 0                  0                       0   \n",
       "\n",
       "   job_title_Police  job_title_Politician  job_title_Singer  \\\n",
       "0                 0                     0                 0   \n",
       "1                 0                     0                 0   \n",
       "2                 0                     0                 0   \n",
       "3                 0                     0                 0   \n",
       "4                 0                     0                 0   \n",
       "\n",
       "   job_title_Student  job_title_Technician  \n",
       "0                  0                     0  \n",
       "1                  0                     0  \n",
       "2                  0                     0  \n",
       "3                  0                     0  \n",
       "4                  0                     0  \n",
       "\n",
       "[5 rows x 47 columns]"
      ]
     },
     "execution_count": 39,
     "metadata": {},
     "output_type": "execute_result"
    }
   ],
   "source": [
    "cat_encoded = pd.get_dummies(df1_cat,drop_first=True)\n",
    "cat_encoded.head()"
   ]
  },
  {
   "cell_type": "markdown",
   "metadata": {
    "id": "pXihs0Q65Gyb"
   },
   "source": [
    "#### 8.2 Concatenate numerical and dummy encoded categorical variables. (2m)"
   ]
  },
  {
   "cell_type": "code",
   "execution_count": 40,
   "metadata": {},
   "outputs": [
    {
     "data": {
      "text/html": [
       "<div>\n",
       "<style scoped>\n",
       "    .dataframe tbody tr th:only-of-type {\n",
       "        vertical-align: middle;\n",
       "    }\n",
       "\n",
       "    .dataframe tbody tr th {\n",
       "        vertical-align: top;\n",
       "    }\n",
       "\n",
       "    .dataframe thead th {\n",
       "        text-align: right;\n",
       "    }\n",
       "</style>\n",
       "<table border=\"1\" class=\"dataframe\">\n",
       "  <thead>\n",
       "    <tr style=\"text-align: right;\">\n",
       "      <th></th>\n",
       "      <th>age</th>\n",
       "      <th>weight</th>\n",
       "      <th>bmi</th>\n",
       "      <th>no_of_dependents</th>\n",
       "      <th>bloodpressure</th>\n",
       "      <th>sex_male</th>\n",
       "      <th>hereditary_diseases_Arthritis</th>\n",
       "      <th>hereditary_diseases_Cancer</th>\n",
       "      <th>hereditary_diseases_Diabetes</th>\n",
       "      <th>hereditary_diseases_Epilepsy</th>\n",
       "      <th>...</th>\n",
       "      <th>job_title_Journalist</th>\n",
       "      <th>job_title_Labourer</th>\n",
       "      <th>job_title_Lawyer</th>\n",
       "      <th>job_title_Manager</th>\n",
       "      <th>job_title_Photographer</th>\n",
       "      <th>job_title_Police</th>\n",
       "      <th>job_title_Politician</th>\n",
       "      <th>job_title_Singer</th>\n",
       "      <th>job_title_Student</th>\n",
       "      <th>job_title_Technician</th>\n",
       "    </tr>\n",
       "  </thead>\n",
       "  <tbody>\n",
       "    <tr>\n",
       "      <th>0</th>\n",
       "      <td>60.0</td>\n",
       "      <td>64</td>\n",
       "      <td>24.3</td>\n",
       "      <td>1</td>\n",
       "      <td>72</td>\n",
       "      <td>1</td>\n",
       "      <td>0</td>\n",
       "      <td>0</td>\n",
       "      <td>0</td>\n",
       "      <td>0</td>\n",
       "      <td>...</td>\n",
       "      <td>0</td>\n",
       "      <td>0</td>\n",
       "      <td>0</td>\n",
       "      <td>0</td>\n",
       "      <td>0</td>\n",
       "      <td>0</td>\n",
       "      <td>0</td>\n",
       "      <td>0</td>\n",
       "      <td>0</td>\n",
       "      <td>0</td>\n",
       "    </tr>\n",
       "    <tr>\n",
       "      <th>1</th>\n",
       "      <td>49.0</td>\n",
       "      <td>75</td>\n",
       "      <td>22.6</td>\n",
       "      <td>1</td>\n",
       "      <td>78</td>\n",
       "      <td>0</td>\n",
       "      <td>0</td>\n",
       "      <td>0</td>\n",
       "      <td>0</td>\n",
       "      <td>0</td>\n",
       "      <td>...</td>\n",
       "      <td>0</td>\n",
       "      <td>0</td>\n",
       "      <td>0</td>\n",
       "      <td>0</td>\n",
       "      <td>0</td>\n",
       "      <td>0</td>\n",
       "      <td>0</td>\n",
       "      <td>0</td>\n",
       "      <td>0</td>\n",
       "      <td>0</td>\n",
       "    </tr>\n",
       "    <tr>\n",
       "      <th>2</th>\n",
       "      <td>32.0</td>\n",
       "      <td>64</td>\n",
       "      <td>17.8</td>\n",
       "      <td>2</td>\n",
       "      <td>88</td>\n",
       "      <td>0</td>\n",
       "      <td>0</td>\n",
       "      <td>0</td>\n",
       "      <td>0</td>\n",
       "      <td>1</td>\n",
       "      <td>...</td>\n",
       "      <td>0</td>\n",
       "      <td>0</td>\n",
       "      <td>0</td>\n",
       "      <td>0</td>\n",
       "      <td>0</td>\n",
       "      <td>0</td>\n",
       "      <td>0</td>\n",
       "      <td>0</td>\n",
       "      <td>0</td>\n",
       "      <td>0</td>\n",
       "    </tr>\n",
       "    <tr>\n",
       "      <th>3</th>\n",
       "      <td>61.0</td>\n",
       "      <td>53</td>\n",
       "      <td>36.4</td>\n",
       "      <td>1</td>\n",
       "      <td>72</td>\n",
       "      <td>0</td>\n",
       "      <td>0</td>\n",
       "      <td>0</td>\n",
       "      <td>0</td>\n",
       "      <td>0</td>\n",
       "      <td>...</td>\n",
       "      <td>0</td>\n",
       "      <td>0</td>\n",
       "      <td>0</td>\n",
       "      <td>0</td>\n",
       "      <td>0</td>\n",
       "      <td>0</td>\n",
       "      <td>0</td>\n",
       "      <td>0</td>\n",
       "      <td>0</td>\n",
       "      <td>0</td>\n",
       "    </tr>\n",
       "    <tr>\n",
       "      <th>4</th>\n",
       "      <td>19.0</td>\n",
       "      <td>50</td>\n",
       "      <td>20.6</td>\n",
       "      <td>0</td>\n",
       "      <td>82</td>\n",
       "      <td>0</td>\n",
       "      <td>0</td>\n",
       "      <td>0</td>\n",
       "      <td>0</td>\n",
       "      <td>0</td>\n",
       "      <td>...</td>\n",
       "      <td>0</td>\n",
       "      <td>0</td>\n",
       "      <td>0</td>\n",
       "      <td>0</td>\n",
       "      <td>0</td>\n",
       "      <td>0</td>\n",
       "      <td>0</td>\n",
       "      <td>0</td>\n",
       "      <td>0</td>\n",
       "      <td>0</td>\n",
       "    </tr>\n",
       "  </tbody>\n",
       "</table>\n",
       "<p>5 rows × 52 columns</p>\n",
       "</div>"
      ],
      "text/plain": [
       "    age  weight   bmi  no_of_dependents  bloodpressure  sex_male  \\\n",
       "0  60.0      64  24.3                 1             72         1   \n",
       "1  49.0      75  22.6                 1             78         0   \n",
       "2  32.0      64  17.8                 2             88         0   \n",
       "3  61.0      53  36.4                 1             72         0   \n",
       "4  19.0      50  20.6                 0             82         0   \n",
       "\n",
       "   hereditary_diseases_Arthritis  hereditary_diseases_Cancer  \\\n",
       "0                              0                           0   \n",
       "1                              0                           0   \n",
       "2                              0                           0   \n",
       "3                              0                           0   \n",
       "4                              0                           0   \n",
       "\n",
       "   hereditary_diseases_Diabetes  hereditary_diseases_Epilepsy  ...  \\\n",
       "0                             0                             0  ...   \n",
       "1                             0                             0  ...   \n",
       "2                             0                             1  ...   \n",
       "3                             0                             0  ...   \n",
       "4                             0                             0  ...   \n",
       "\n",
       "   job_title_Journalist  job_title_Labourer  job_title_Lawyer  \\\n",
       "0                     0                   0                 0   \n",
       "1                     0                   0                 0   \n",
       "2                     0                   0                 0   \n",
       "3                     0                   0                 0   \n",
       "4                     0                   0                 0   \n",
       "\n",
       "   job_title_Manager  job_title_Photographer  job_title_Police  \\\n",
       "0                  0                       0                 0   \n",
       "1                  0                       0                 0   \n",
       "2                  0                       0                 0   \n",
       "3                  0                       0                 0   \n",
       "4                  0                       0                 0   \n",
       "\n",
       "   job_title_Politician  job_title_Singer  job_title_Student  \\\n",
       "0                     0                 0                  0   \n",
       "1                     0                 0                  0   \n",
       "2                     0                 0                  0   \n",
       "3                     0                 0                  0   \n",
       "4                     0                 0                  0   \n",
       "\n",
       "   job_title_Technician  \n",
       "0                     0  \n",
       "1                     0  \n",
       "2                     0  \n",
       "3                     0  \n",
       "4                     0  \n",
       "\n",
       "[5 rows x 52 columns]"
      ]
     },
     "execution_count": 40,
     "metadata": {},
     "output_type": "execute_result"
    }
   ],
   "source": [
    "z = pd.concat([df1_num,cat_encoded],axis=1)\n",
    "z.head()"
   ]
  },
  {
   "cell_type": "markdown",
   "metadata": {
    "id": "VofLhXtt5Gyh"
   },
   "source": [
    "#### 8.3 Split the data into training and test sets. Take test_size = 0.2. (2m)"
   ]
  },
  {
   "cell_type": "code",
   "execution_count": 41,
   "metadata": {},
   "outputs": [],
   "source": [
    " from sklearn.model_selection import train_test_split\n",
    "x_train,x_test,y_train,y_test = train_test_split(z,y,test_size=0.2)"
   ]
  },
  {
   "cell_type": "markdown",
   "metadata": {},
   "source": [
    "## 9 Fitting different models. "
   ]
  },
  {
   "cell_type": "markdown",
   "metadata": {},
   "source": [
    "#### 9.1 Fit Multiple Linear Regression, find out R2 for train as well as test data. (5m)"
   ]
  },
  {
   "cell_type": "code",
   "execution_count": 43,
   "metadata": {},
   "outputs": [
    {
     "name": "stdout",
     "output_type": "stream",
     "text": [
      "Intercept: \n",
      " 1714.831808787827\n",
      "Coefficients: \n",
      " [ 2.65343770e+02 -3.75473612e+01  2.14620041e+02  4.51492708e+02\n",
      "  2.70077410e+01 -7.86113975e+01 -2.32394637e+03  1.30465814e+02\n",
      " -1.50037592e+03 -7.44098618e+01  9.74734615e+01  4.14355738e+03\n",
      " -1.95077250e+03 -1.11721694e+04 -4.88649992e+02  2.02569799e+04\n",
      "  1.28950172e+03 -8.42277987e+02  4.17835273e+02 -3.03583624e+02\n",
      " -1.63813091e+03  4.02511533e+02  5.60339950e+01 -8.04295564e+02\n",
      " -3.01274052e+02  3.85983973e+02  3.72349596e+02 -1.25137588e+03\n",
      "  8.78522639e+02  1.19307832e+02  1.30923464e+03 -1.04029312e+03\n",
      "  1.53019276e+03  1.83292184e+03  4.24656999e+02  1.69637495e+02\n",
      " -2.33052126e+02  7.30621508e+02 -2.94293983e+02  5.63242319e+02\n",
      " -5.53835003e+02  5.99353149e+01  8.01369349e+01  1.45061256e+03\n",
      "  6.01429984e+02  1.07617310e+03  1.85234077e+03  1.36186562e+01\n",
      "  1.27600369e+03  3.73207776e+02  9.60888991e+02 -5.00377127e+02]\n",
      "R2 score is  0.7669627301796844\n",
      "R2 score is  0.7584917235744583\n"
     ]
    }
   ],
   "source": [
    "from sklearn import linear_model\n",
    "\n",
    "regr = linear_model.LinearRegression()\n",
    "regr.fit(x_train, y_train)\n",
    "\n",
    "print('Intercept: \\n', regr.intercept_)\n",
    "print('Coefficients: \\n', regr.coef_)\n",
    "\n",
    "\n",
    "from sklearn.metrics import r2_score\n",
    "y_train_predict = regr.predict(x_train)\n",
    "R_square = r2_score(y_train, y_train_predict)\n",
    "\n",
    "print('R2 score is ', R_square)\n",
    "\n",
    "\n",
    "\n",
    "y_test_predict = regr.predict(x_test)\n",
    "R_square = r2_score(y_test, y_test_predict)\n",
    "\n",
    "print('R2 score is ', R_square)"
   ]
  },
  {
   "cell_type": "markdown",
   "metadata": {},
   "source": [
    "#### 9.2 Perform hyperparameter tunning for the Ridge model. Take alpha = [0.001,0.01,0.1,0.3,0.5]. Fit the model with the best value of alpha. Compare Ridge R2 and normal R2 found out in 9.1 and conclude which model is best for the given data.  (5m)"
   ]
  },
  {
   "cell_type": "code",
   "execution_count": 44,
   "metadata": {},
   "outputs": [
    {
     "data": {
      "text/plain": [
       "Ridge()"
      ]
     },
     "execution_count": 44,
     "metadata": {},
     "output_type": "execute_result"
    }
   ],
   "source": [
    "from sklearn.linear_model import Ridge\n",
    "ridge = Ridge()\n",
    "ridge.fit(x_train,y_train)"
   ]
  },
  {
   "cell_type": "code",
   "execution_count": 45,
   "metadata": {},
   "outputs": [
    {
     "data": {
      "text/plain": [
       "{'alpha': 0.001}"
      ]
     },
     "execution_count": 45,
     "metadata": {},
     "output_type": "execute_result"
    }
   ],
   "source": [
    "from sklearn.model_selection import GridSearchCV\n",
    "p = {'alpha':[0.001,0.01,0.1,0.3,0.5]}\n",
    "r = Ridge(normalize=True) # to scale the data\n",
    "gridcv = GridSearchCV(r,param_grid=p,cv=3,scoring='r2')  # k fold cross validation with k=3\n",
    "gridcv.fit(x_train,y_train)\n",
    "gridcv.best_params_"
   ]
  },
  {
   "cell_type": "code",
   "execution_count": null,
   "metadata": {},
   "outputs": [],
   "source": []
  }
 ],
 "metadata": {
  "colab": {
   "collapsed_sections": [
    "XjiwFXQG5GxW",
    "XA1jcJ0j5GxX",
    "TYRILX945Gxa",
    "MzwJdyTH5Gxi",
    "MiTunCzF5Gxn",
    "UuuzUOFU5Gxp",
    "hxFruD-k5Gxq",
    "5t5POIFn5Gxv",
    "2xa64prt5Gx0",
    "c-t1S8UY5Gx4",
    "je56zj585Gx6",
    "KlMSxRrR5Gx_",
    "n7PHYrrN5GyA",
    "W7mWNZeJ5GyA",
    "xtajOSPx5GyH",
    "t5K9zCzs5GyM",
    "b9eYO3Ms5GyM",
    "88Lw1_Uq5GyW",
    "F94HmKCF5GyW",
    "UsRZ2DXZ5GyY",
    "KqxK_Cdt5Gye",
    "rQWRjs7U5Gyf",
    "Bn2GSpdi5Gyo",
    "1dc4FLQe5Gyr",
    "RE0gp-Be5Gyv",
    "CKS3D16z5Gyw",
    "YPTj5UF25Gy_",
    "kMgHDrhB5Gy_",
    "y9CZUJbx5GzA",
    "c2XA2VIy5GzC",
    "jxtG7YqH5GzE",
    "Dsb2hgul5GzI",
    "jKjLE0Pl5GzN",
    "TkBvLdHC5GzT",
    "_76lLw-r5GzU",
    "FMuNaY7v5Gzh",
    "m61mFMQh5Gzt",
    "FVsyv8jh5Gz1",
    "FI5BZ_Yq5Gz2",
    "YMIPrvmw5Gz5",
    "1eaf1p_N5Gz-"
   ],
   "name": "SLR - Case Study - Insurance Claim - [v1.6 - 13052020].ipynb",
   "provenance": []
  },
  "kernelspec": {
   "display_name": "Python 3 (ipykernel)",
   "language": "python",
   "name": "python3"
  },
  "language_info": {
   "codemirror_mode": {
    "name": "ipython",
    "version": 3
   },
   "file_extension": ".py",
   "mimetype": "text/x-python",
   "name": "python",
   "nbconvert_exporter": "python",
   "pygments_lexer": "ipython3",
   "version": "3.9.12"
  }
 },
 "nbformat": 4,
 "nbformat_minor": 1
}
